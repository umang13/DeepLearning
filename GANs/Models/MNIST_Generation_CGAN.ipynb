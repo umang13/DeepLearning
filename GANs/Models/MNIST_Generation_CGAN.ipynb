{
 "cells": [
  {
   "cell_type": "code",
   "execution_count": 3,
   "metadata": {},
   "outputs": [
    {
     "name": "stdout",
     "output_type": "stream",
     "text": [
      "2.0.0-beta1\n"
     ]
    },
    {
     "data": {
      "text/plain": [
       "False"
      ]
     },
     "execution_count": 3,
     "metadata": {},
     "output_type": "execute_result"
    }
   ],
   "source": [
    "import tensorflow as tf\n",
    "import numpy as np\n",
    "import time\n",
    "import os\n",
    "#import PIL\n",
    "import glob\n",
    "import matplotlib.pyplot as plt\n",
    "from tensorflow.keras.layers import Dense, BatchNormalization, LeakyReLU, Reshape, Concatenate\n",
    "from tensorflow.keras.layers import Conv2D, Conv2DTranspose, Input, Flatten, Dropout\n",
    "from tensorflow.keras.utils import to_categorical\n",
    "from tensorflow.keras.models import Model\n",
    "from tensorflow.keras.optimizers import Adam\n",
    "#import imageio\n",
    "from IPython import display\n",
    "print(tf.__version__)\n",
    "tf.test.is_gpu_available()\n"
   ]
  },
  {
   "cell_type": "code",
   "execution_count": 5,
   "metadata": {},
   "outputs": [
    {
     "name": "stderr",
     "output_type": "stream",
     "text": [
      "W0917 10:20:47.282351 4642031040 training.py:1952] Discrepancy between trainable weights and collected trainable weights, did you set `model.trainable` without calling `model.compile` after ?\n",
      "W0917 10:20:48.365081 4642031040 training.py:1952] Discrepancy between trainable weights and collected trainable weights, did you set `model.trainable` without calling `model.compile` after ?\n"
     ]
    },
    {
     "name": "stdout",
     "output_type": "stream",
     "text": [
      "Discriminator loss : 0.7450946569442749 , Generator loss : 1.885232925415039\n"
     ]
    },
    {
     "data": {
      "image/png": "[encoded data removed]",
      "text/plain": [
       "<Figure size 288x288 with 1 Axes>"
      ]
     },
     "metadata": {
      "needs_background": "light"
     },
     "output_type": "display_data"
    },
    {
     "name": "stdout",
     "output_type": "stream",
     "text": [
      "Discriminator loss : 0.6763766407966614 , Generator loss : 1.5302331447601318\n"
     ]
    },
    {
     "data": {
      "image/png": "[encoded data removed]",
      "text/plain": [
       "<Figure size 288x288 with 1 Axes>"
      ]
     },
     "metadata": {
      "needs_background": "light"
     },
     "output_type": "display_data"
    },
    {
     "name": "stdout",
     "output_type": "stream",
     "text": [
      "Discriminator loss : 0.6334801316261292 , Generator loss : 1.974649429321289\n"
     ]
    },
    {
     "data": {
      "image/png": "[encoded data removed]",
      "text/plain": [
       "<Figure size 288x288 with 1 Axes>"
      ]
     },
     "metadata": {
      "needs_background": "light"
     },
     "output_type": "display_data"
    },
    {
     "name": "stdout",
     "output_type": "stream",
     "text": [
      "Discriminator loss : 0.9353379607200623 , Generator loss : 1.524301528930664\n"
     ]
    },
    {
     "data": {
      "image/png": "[encoded data removed]",
      "text/plain": [
       "<Figure size 288x288 with 1 Axes>"
      ]
     },
     "metadata": {
      "needs_background": "light"
     },
     "output_type": "display_data"
    },
    {
     "name": "stdout",
     "output_type": "stream",
     "text": [
      "Discriminator loss : 1.0862653255462646 , Generator loss : 1.2716178894042969\n"
     ]
    },
    {
     "data": {
      "image/png": "[encoded data removed]",
      "text/plain": [
       "<Figure size 288x288 with 1 Axes>"
      ]
     },
     "metadata": {
      "needs_background": "light"
     },
     "output_type": "display_data"
    },
    {
     "name": "stdout",
     "output_type": "stream",
     "text": [
      "Discriminator loss : 1.0197510719299316 , Generator loss : 1.0675432682037354\n"
     ]
    },
    {
     "data": {
      "image/png": "[encoded data removed]",
      "text/plain": [
       "<Figure size 288x288 with 1 Axes>"
      ]
     },
     "metadata": {
      "needs_background": "light"
     },
     "output_type": "display_data"
    },
    {
     "name": "stdout",
     "output_type": "stream",
     "text": [
      "Discriminator loss : 1.022633671760559 , Generator loss : 1.25877046585083\n"
     ]
    },
    {
     "data": {
      "image/png": "[encoded data removed]",
      "text/plain": [
       "<Figure size 288x288 with 1 Axes>"
      ]
     },
     "metadata": {
      "needs_background": "light"
     },
     "output_type": "display_data"
    },
    {
     "name": "stdout",
     "output_type": "stream",
     "text": [
      "Discriminator loss : 1.1275889873504639 , Generator loss : 1.0736052989959717\n"
     ]
    },
    {
     "data": {
      "image/png": "[encoded data removed]",
      "text/plain": [
       "<Figure size 288x288 with 1 Axes>"
      ]
     },
     "metadata": {
      "needs_background": "light"
     },
     "output_type": "display_data"
    },
    {
     "name": "stdout",
     "output_type": "stream",
     "text": [
      "Discriminator loss : 1.2132960557937622 , Generator loss : 1.1828327178955078\n"
     ]
    },
    {
     "data": {
      "image/png": "[encoded data removed]",
      "text/plain": [
       "<Figure size 288x288 with 1 Axes>"
      ]
     },
     "metadata": {
      "needs_background": "light"
     },
     "output_type": "display_data"
    },
    {
     "name": "stdout",
     "output_type": "stream",
     "text": [
      "Discriminator loss : 1.2092278003692627 , Generator loss : 0.8995079398155212\n"
     ]
    },
    {
     "data": {
      "image/png": "[encoded data removed]",
      "text/plain": [
       "<Figure size 288x288 with 1 Axes>"
      ]
     },
     "metadata": {
      "needs_background": "light"
     },
     "output_type": "display_data"
    }
   ],
   "source": [
    "class Cond_GAN :\n",
    "    \n",
    "    def __init__(self, img_width, img_height, img_channels, num_classes):\n",
    "        self.img_width = img_width\n",
    "        self.img_height = img_height\n",
    "        self.img_channels = img_channels\n",
    "        self.num_classes = num_classes\n",
    "        self.noise_dim = 100\n",
    "        self.discriminator = self.discriminator_model()\n",
    "        self.discriminator.compile(optimizer=Adam(lr=0.0001), loss='binary_crossentropy')\n",
    "\n",
    "        self.generator = self.generator_model()\n",
    "        noise = Input(shape=(self.noise_dim,))\n",
    "        labels = Input(shape=(self.num_classes,))\n",
    "        img_generated = self.generator([noise, labels])\n",
    "        \n",
    "        self.discriminator.trainable = False\n",
    "        \n",
    "        gan_output = self.discriminator([img_generated, labels])\n",
    "        self.gan_model = Model(inputs=[noise, labels], outputs=gan_output)\n",
    "        self.gan_model.compile(optimizer=Adam(lr=0.0001), loss='binary_crossentropy')\n",
    "        \n",
    "\n",
    "\n",
    "    def generator_model(self):\n",
    "        input_noise = Input(shape=(self.noise_dim,), name='Z_noise')\n",
    "        class_labels = Input(shape=(self.num_classes), name='Y')\n",
    "        merged_input = Concatenate()([input_noise, class_labels])\n",
    "\n",
    "        hidden_vals = Dense(7*7*256)(merged_input)\n",
    "        hidden_vals = BatchNormalization()(hidden_vals)\n",
    "        hidden_vals = LeakyReLU()(hidden_vals)\n",
    "        hidden_vals = Reshape((7,7,256))(hidden_vals)\n",
    "\n",
    "        hidden_vals = Conv2DTranspose(128, (5,5), strides=(1,1), padding='same')(hidden_vals)\n",
    "        hidden_vals = BatchNormalization()(hidden_vals)\n",
    "        hidden_vals = LeakyReLU()(hidden_vals)\n",
    "\n",
    "        hidden_vals = Conv2DTranspose(64, (5,5), strides=(2,2), padding='same')(hidden_vals)\n",
    "        hidden_vals = BatchNormalization()(hidden_vals)\n",
    "        hidden_vals = LeakyReLU()(hidden_vals)\n",
    "\n",
    "        outputs = Conv2DTranspose(1, (5,5), strides=(2,2), padding='same', activation='tanh')(hidden_vals)\n",
    "\n",
    "        model = Model(inputs=[input_noise, class_labels], outputs=outputs)\n",
    "        return model\n",
    "    \n",
    "    def discriminator_model(self):\n",
    "        input_image = Input(shape=(self.img_height, self.img_width, self.img_channels,), name='X')\n",
    "        class_labels = Input(shape=(self.num_classes,), name='Y')\n",
    "\n",
    "        hidden_vals = Conv2D(64, (5,5), strides=(2,2), padding='same')(input_image)\n",
    "        hidden_vals = LeakyReLU()(hidden_vals)\n",
    "        hidden_vals = Dropout(0.3)(hidden_vals)\n",
    "\n",
    "        hidden_vals = Conv2D(128, (5,5), strides=(2,2), padding='same')(hidden_vals)\n",
    "        hidden_vals = BatchNormalization()(hidden_vals)\n",
    "        hidden_vals = LeakyReLU()(hidden_vals)\n",
    "        hidden_vals = Dropout(0.3)(hidden_vals)\n",
    "\n",
    "        hidden_vals = Flatten()(hidden_vals)\n",
    "\n",
    "        merged_with_labels = Concatenate()([hidden_vals, class_labels])\n",
    "        merged_with_labels = Dense(256, activation='relu')(merged_with_labels)\n",
    "        outputs = Dense(1, activation='sigmoid')(merged_with_labels)\n",
    "\n",
    "        model = Model(inputs=[input_image, class_labels], outputs=outputs)\n",
    "        return model\n",
    "    \n",
    "    # Generates a tensor sampled from a random normal distribution\n",
    "    def generate_uniform_noise(self, batch_size) :\n",
    "        return tf.random.normal([batch_size, self.noise_dim],dtype=tf.dtypes.float32)\n",
    "    \n",
    "    def one_hot_encode(self, y):\n",
    "        return tf.reshape(tf.one_hot(y, self.num_classes), (1,self.num_classes))\n",
    "    \n",
    "    def generate_img(self, input_noise, input_label, epoch) :\n",
    "        label_vector = self.one_hot_encode(input_label)\n",
    "        predictions = self.generator.predict([input_noise,label_vector])\n",
    "        fig = plt.figure(figsize=(4,4))\n",
    "\n",
    "        for i in range(predictions.shape[0]):\n",
    "            plt.subplot(4, 4, i+1)\n",
    "            plt.imshow(predictions[i, :, :, 0] * 127.5 + 127.5, cmap='gray')\n",
    "            plt.axis('off')\n",
    "        plt.savefig(\"img_at_epoch_{}.png\".format(epoch))\n",
    "        plt.show()\n",
    "    \n",
    "    def train(self, images, labels, epochs, batch_size) :\n",
    "        buffer_size = images.shape[0]\n",
    "        random_fixed_noise = self.generate_uniform_noise(1)\n",
    "        # Reshape to account for greyscales and normalize RGB to [-1,1] as per GoodFellow 2016\n",
    "        x_train = images.reshape(images.shape[0], 28, 28, 1).astype('float32')\n",
    "        x_train = (x_train - 127.5)/127.5\n",
    "        y_train = to_categorical(labels, 10)\n",
    "        x_train = tf.data.Dataset.from_tensor_slices((x_train, y_train)).shuffle(buffer_size).batch(batch_size, drop_remainder=True)\n",
    "        for t in range(epochs):\n",
    "            start = time.time()  \n",
    "            # Shuffle the dataset\n",
    "            for images_mini_batch, labels in x_train :\n",
    "                noise = self.generate_uniform_noise(batch_size)\n",
    "                generated_images = self.generator.predict([noise, labels])\n",
    "                \n",
    "                discr_real_loss = self.discriminator.train_on_batch([images_mini_batch, labels], np.ones((batch_size,1)))\n",
    "                discr_fake_loss = self.discriminator.train_on_batch([generated_images, labels], np.zeros((batch_size,1)))\n",
    "                \n",
    "                gen_loss = self.gan_model.train_on_batch([noise, labels], np.ones((batch_size,1)))\n",
    "            print(\"Discriminator loss : {} , Generator loss : {}\".format(discr_real_loss + discr_fake_loss, gen_loss))\n",
    "            self.generate_img(random_fixed_noise, 1, t)\n",
    "            \n",
    "    \n",
    "                \n",
    "(x_train, y_train), (x_test, y_test) = tf.keras.datasets.mnist.load_data()\n",
    "img_width, img_height = x_train[0].shape\n",
    "num_classes = 10\n",
    "cond_gan = Cond_GAN(img_width, img_height, 1, num_classes)\n",
    "cond_gan.train(x_train, y_train, 10, 32)   \n",
    "    "
   ]
  },
  {
   "cell_type": "code",
   "execution_count": 17,
   "metadata": {
    "scrolled": false
   },
   "outputs": [
    {
     "data": {
      "image/png": "[encoded data removed]",
      "text/plain": [
       "<Figure size 288x288 with 1 Axes>"
      ]
     },
     "metadata": {
      "needs_background": "light"
     },
     "output_type": "display_data"
    }
   ],
   "source": [
    "# Generate numbers from the trained generator now\n",
    "num_to_generate = 7\n",
    "random_fixed_noise = cond_gan.generate_uniform_noise(1)\n",
    "cond_gan.generate_img(random_fixed_noise,num_to_generate, 0)"
   ]
  },
  {
   "cell_type": "code",
   "execution_count": null,
   "metadata": {},
   "outputs": [],
   "source": []
  }
 ],
 "metadata": {
  "kernelspec": {
   "display_name": "Python 3",
   "language": "python",
   "name": "python3"
  },
  "language_info": {
   "codemirror_mode": {
    "name": "ipython",
    "version": 3
   },
   "file_extension": ".py",
   "mimetype": "text/x-python",
   "name": "python",
   "nbconvert_exporter": "python",
   "pygments_lexer": "ipython3",
   "version": "3.7.4"
  }
 },
 "nbformat": 4,
 "nbformat_minor": 2
}
